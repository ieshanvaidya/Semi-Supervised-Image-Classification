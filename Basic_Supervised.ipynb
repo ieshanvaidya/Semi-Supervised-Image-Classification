{
 "cells": [
  {
   "cell_type": "code",
   "execution_count": 1,
   "metadata": {},
   "outputs": [],
   "source": [
    "import torch\n",
    "from torch import nn\n",
    "from torchvision import models\n",
    "from torchvision import transforms\n",
    "import torchvision\n",
    "from torchvision import datasets\n",
    "from torch.utils.data import DataLoader, Dataset\n",
    "from torch import optim\n",
    "from PIL import Image\n",
    "import os\n",
    "import torch.nn as nn\n",
    "from torch.autograd import Variable"
   ]
  },
  {
   "cell_type": "code",
   "execution_count": 2,
   "metadata": {},
   "outputs": [],
   "source": [
    "data_dir = '/scratch/sa5154/ssl_data_96'"
   ]
  },
  {
   "cell_type": "code",
   "execution_count": 3,
   "metadata": {},
   "outputs": [],
   "source": [
    "device = torch.device('cuda:0' if torch.cuda.is_available() else 'cpu')"
   ]
  },
  {
   "cell_type": "code",
   "execution_count": null,
   "metadata": {},
   "outputs": [],
   "source": []
  },
  {
   "cell_type": "code",
   "execution_count": 4,
   "metadata": {},
   "outputs": [],
   "source": [
    "def load_data(data_dir, batch_size, split):\n",
    "    \"\"\" Method returning a data loader for labeled data \"\"\"\n",
    "    # TODO: add data transformations if needed\n",
    "    transform = transforms.Compose([\n",
    "        transforms.Resize((224, 224)),\n",
    "        transforms.ToTensor(),\n",
    "        transforms.Normalize(mean=[0.485, 0.456, 0.406],\n",
    "                                 std=[0.229, 0.224, 0.225]),\n",
    "        ]\n",
    "    )\n",
    "    data = datasets.ImageFolder(f'{data_dir}/supervised/{split}', transform=transform)\n",
    "    data_loader = DataLoader(\n",
    "        data,\n",
    "        batch_size=batch_size,\n",
    "        shuffle=True,\n",
    "        num_workers=0\n",
    "    )\n",
    "    return data_loader"
   ]
  },
  {
   "cell_type": "code",
   "execution_count": 5,
   "metadata": {},
   "outputs": [],
   "source": [
    "def train (input_image,target):\n",
    "    resnet.train()\n",
    "    optimizer.zero_grad()\n",
    "    prob=resnet(input_image)\n",
    "    loss=criterion(prob,target)\n",
    "    loss.backward()\n",
    "    optimizer.step()\n",
    "    return loss.item()"
   ]
  },
  {
   "cell_type": "code",
   "execution_count": 6,
   "metadata": {},
   "outputs": [],
   "source": [
    "def validate (input_image,target):\n",
    "    with torch.no_grad():\n",
    "        resnet.eval()\n",
    "        prob=resnet(input_image)\n",
    "        loss=criterion(prob,target)\n",
    "        return loss.item()"
   ]
  },
  {
   "cell_type": "code",
   "execution_count": 7,
   "metadata": {},
   "outputs": [],
   "source": [
    "train_data = load_data(data_dir, 16, 'train')\n",
    "val_data = load_data(data_dir, 16, 'val')"
   ]
  },
  {
   "cell_type": "code",
   "execution_count": 11,
   "metadata": {},
   "outputs": [],
   "source": [
    "resnet = models.resnet34(pretrained=False).to(device)"
   ]
  },
  {
   "cell_type": "code",
   "execution_count": 12,
   "metadata": {},
   "outputs": [],
   "source": [
    "criterion = nn.CrossEntropyLoss()\n",
    "# optimizer = torch.optim.Adam(FEN.parameters())\n",
    "optimizer = torch.optim.Adam(resnet.parameters(), lr=1e-1)"
   ]
  },
  {
   "cell_type": "code",
   "execution_count": null,
   "metadata": {},
   "outputs": [
    {
     "name": "stdout",
     "output_type": "stream",
     "text": [
      "Epoch:1 | Iter: 1 | Train Loss: 7.143449306488037\n",
      "Epoch:1 | Iter: 101 | Train Loss: 7.449985192553831\n",
      "Epoch:1 | Iter: 201 | Train Loss: 7.225412743601633\n",
      "Epoch:1 | Iter: 301 | Train Loss: 7.142028607403321\n",
      "Epoch:1 | Iter: 401 | Train Loss: 7.1015373560555854\n",
      "Epoch:1 | Iter: 501 | Train Loss: 7.077775888576241\n",
      "Epoch:1 | Iter: 601 | Train Loss: 7.059805820864964\n",
      "Epoch:1 | Iter: 701 | Train Loss: 7.046019088864837\n"
     ]
    }
   ],
   "source": [
    "train_loss=[]\n",
    "validation_loss=[]\n",
    "epochs = 30\n",
    "global_loss = 10\n",
    "for epoch in range(epochs):\n",
    "    pointer_train = 0\n",
    "    pointer_test = 0\n",
    "    pointer_cv = 0\n",
    "\n",
    "    running_loss = 0\n",
    "    for i, (X_train, y_train) in enumerate(train_data):\n",
    "        X_train = X_train.to(device)\n",
    "        y_train = y_train.to(device)\n",
    "        loss=train(X_train,y_train)\n",
    "        running_loss+=loss\n",
    "        if(i%100 == 0):\n",
    "            print('Epoch:{} | Iter: {} | Train Loss: {}'.format(epoch + 1, i+1, running_loss/(i+1)))\n",
    "        \n",
    "    #Validation\n",
    "    loss_val=0\n",
    "    for i, (X_val, y_val) in enumerate(val_data):\n",
    "        X_val = X_val.to(device)\n",
    "        y_val = y_val.to(device)\n",
    "        loss_val+=validate(X_val,y_val)\n",
    "    \n",
    "    loss_val=loss_val/len(val_data)\n",
    "    validation_loss.append(loss_val)\n",
    "    running_loss = running_loss/len(train_data)\n",
    "    train_loss.append(running_loss)\n",
    "    print ('Epoch: {} | Training loss: {} | Validation Loss: {}'.format(epoch+1, running_loss, loss_val))\n",
    "    if(global_loss > loss_val):\n",
    "        global_loss = loss_val\n",
    "        torch.save(FEN.state_dict(), './saved_models/VGG-Adam-LR-3-5-Aug.pth')\n",
    "        print(\"Model saved at epoch: {}\".format(epoch+1))\n",
    "                   \n",
    "    #print ('Epoch: {} | Training loss: {}'.format(epoch+1, running_loss))"
   ]
  },
  {
   "cell_type": "code",
   "execution_count": null,
   "metadata": {},
   "outputs": [],
   "source": []
  },
  {
   "cell_type": "code",
   "execution_count": null,
   "metadata": {},
   "outputs": [],
   "source": []
  },
  {
   "cell_type": "code",
   "execution_count": null,
   "metadata": {},
   "outputs": [],
   "source": []
  },
  {
   "cell_type": "code",
   "execution_count": null,
   "metadata": {},
   "outputs": [],
   "source": []
  },
  {
   "cell_type": "code",
   "execution_count": null,
   "metadata": {},
   "outputs": [],
   "source": []
  },
  {
   "cell_type": "code",
   "execution_count": null,
   "metadata": {},
   "outputs": [],
   "source": []
  },
  {
   "cell_type": "code",
   "execution_count": null,
   "metadata": {},
   "outputs": [],
   "source": [
    "3"
   ]
  }
 ],
 "metadata": {
  "kernelspec": {
   "display_name": "Python 3",
   "language": "python",
   "name": "python3"
  },
  "language_info": {
   "codemirror_mode": {
    "name": "ipython",
    "version": 3
   },
   "file_extension": ".py",
   "mimetype": "text/x-python",
   "name": "python",
   "nbconvert_exporter": "python",
   "pygments_lexer": "ipython3",
   "version": "3.6.7"
  }
 },
 "nbformat": 4,
 "nbformat_minor": 2
}
