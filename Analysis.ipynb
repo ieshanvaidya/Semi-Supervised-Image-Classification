{
 "cells": [
  {
   "cell_type": "code",
   "execution_count": 61,
   "metadata": {},
   "outputs": [],
   "source": [
    "import torch\n",
    "import torch.nn as nn\n",
    "import torch.nn.functional as F\n",
    "import torch.optim as optim\n",
    "from torchvision import datasets, transforms\n",
    "import matplotlib.pyplot as plt\n",
    "import numpy\n",
    "import os\n",
    "import random\n",
    "from shutil import copyfile"
   ]
  },
  {
   "cell_type": "code",
   "execution_count": 20,
   "metadata": {},
   "outputs": [],
   "source": [
    "def list_files(dir):                                                                                                                                                                                                            \n",
    "    subdirs = [x[0] for x in os.walk(dir)]\n",
    "    subdirs = list(map(lambda s: s.split('/')[-1], subdirs))\n",
    "    subdirs = subdirs[1:]\n",
    "    return subdirs                                                                                                    "
   ]
  },
  {
   "cell_type": "code",
   "execution_count": 3,
   "metadata": {},
   "outputs": [],
   "source": [
    "train_folder = './ssl_data_96/supervised/train/'\n",
    "val_folder = './ssl_data_96/supervised/val/'\n",
    "new_train_folder = './ssl_data_96/supervised/my_train/'\n",
    "new_val_folder = './ssl_data_96/supervised/my_val/'"
   ]
  },
  {
   "cell_type": "code",
   "execution_count": 1,
   "metadata": {},
   "outputs": [],
   "source": [
    "#Create category list"
   ]
  },
  {
   "cell_type": "code",
   "execution_count": 32,
   "metadata": {},
   "outputs": [],
   "source": [
    "cat = list_files(train_folder)"
   ]
  },
  {
   "cell_type": "code",
   "execution_count": 36,
   "metadata": {},
   "outputs": [],
   "source": [
    "f = open('original_cats','w+')\n",
    "f.write('\\n'.join(cat))\n",
    "f.close()"
   ]
  },
  {
   "cell_type": "code",
   "execution_count": 72,
   "metadata": {},
   "outputs": [],
   "source": [
    "def get_files(dir):\n",
    "    f = []\n",
    "    for (dirpath, dirnames, filenames) in os.walk(dir):\n",
    "        filenames2 = list(map(lambda fname: dirpath + '/' + fname, filenames))\n",
    "        f.extend(filenames2)\n",
    "        break\n",
    "    return f"
   ]
  },
  {
   "cell_type": "code",
   "execution_count": 2,
   "metadata": {},
   "outputs": [],
   "source": [
    "#Create new training and validation data.\n",
    "#Shuffles the training & validation data"
   ]
  },
  {
   "cell_type": "code",
   "execution_count": 81,
   "metadata": {},
   "outputs": [],
   "source": [
    "for categ in cat:\n",
    "    train_files = get_files(train_folder + categ)\n",
    "    val_files = get_files(val_folder + categ)\n",
    "    allfiles = train_files + val_files\n",
    "    random.shuffle(allfiles)\n",
    "    new_train_files = allfiles[0:64]\n",
    "    new_val_files = allfiles[64:]\n",
    "    \n",
    "    for new_train in new_train_files:\n",
    "        filename = os.path.basename(new_train)\n",
    "        newdir = new_train_folder + categ\n",
    "        newfullpath = newdir + '/' + filename\n",
    "        os.makedirs(newdir, exist_ok=True)\n",
    "        copyfile(new_train, newfullpath)\n",
    "    for new_val in new_val_files:\n",
    "        filename = os.path.basename(new_val)\n",
    "        newdir = new_val_folder + categ\n",
    "        newfullpath =  newdir + '/' + filename\n",
    "        os.makedirs(newdir, exist_ok=True)\n",
    "        copyfile(new_val, newfullpath)"
   ]
  }
 ],
 "metadata": {
  "kernelspec": {
   "display_name": "Python 3",
   "language": "python",
   "name": "python3"
  },
  "language_info": {
   "codemirror_mode": {
    "name": "ipython",
    "version": 3
   },
   "file_extension": ".py",
   "mimetype": "text/x-python",
   "name": "python",
   "nbconvert_exporter": "python",
   "pygments_lexer": "ipython3",
   "version": "3.7.2"
  }
 },
 "nbformat": 4,
 "nbformat_minor": 2
}
